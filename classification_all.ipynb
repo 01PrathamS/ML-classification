{
  "nbformat": 4,
  "nbformat_minor": 0,
  "metadata": {
    "colab": {
      "provenance": [],
      "authorship_tag": "ABX9TyNapdvzlOFw2IztqevLbp6a",
      "include_colab_link": true
    },
    "kernelspec": {
      "name": "python3",
      "display_name": "Python 3"
    },
    "language_info": {
      "name": "python"
    }
  },
  "cells": [
    {
      "cell_type": "markdown",
      "metadata": {
        "id": "view-in-github",
        "colab_type": "text"
      },
      "source": [
        "<a href=\"https://colab.research.google.com/github/01PrathamS/ML-classification/blob/main/classification_all.ipynb\" target=\"_parent\"><img src=\"https://colab.research.google.com/assets/colab-badge.svg\" alt=\"Open In Colab\"/></a>"
      ]
    },
    {
      "cell_type": "code",
      "execution_count": 1,
      "metadata": {
        "id": "zlFrW24e3S5-"
      },
      "outputs": [],
      "source": [
        "import pandas as pd \n",
        "import numpy as np \n",
        "import matplotlib.pyplot as plt "
      ]
    },
    {
      "cell_type": "code",
      "source": [
        "dataset = pd.read_csv('/content/Social_Network_Ads.csv')\n",
        "X = dataset.iloc[:, :-1].values \n",
        "y = dataset.iloc[:, -1].values "
      ],
      "metadata": {
        "id": "WuKkYn543hVt"
      },
      "execution_count": 2,
      "outputs": []
    },
    {
      "cell_type": "code",
      "source": [
        "## features scaling \n",
        "\n",
        "from sklearn.model_selection import train_test_split \n",
        "\n",
        "X_train, X_test, y_train, y_test = train_test_split(X, y, test_size=0.2, random_state=0)"
      ],
      "metadata": {
        "id": "unwc3S9I6HaO"
      },
      "execution_count": 3,
      "outputs": []
    },
    {
      "cell_type": "code",
      "source": [
        "from sklearn.preprocessing import StandardScaler \n",
        "\n",
        "sc = StandardScaler() \n",
        "X_train = sc.fit_transform(X_train) \n",
        "X_test = sc.transform(X_test)"
      ],
      "metadata": {
        "id": "cGOl_9Y977Bf"
      },
      "execution_count": 4,
      "outputs": []
    },
    {
      "cell_type": "markdown",
      "source": [
        "Logistic Regression"
      ],
      "metadata": {
        "id": "5nMi0McaBObQ"
      }
    },
    {
      "cell_type": "code",
      "source": [
        "\n",
        "# from sklearn.linear_model import LogisticRegression \n",
        "\n",
        "# classifier = LogisticRegression(random_state=0) \n",
        "# classifier.fit(X_train, y_train)"
      ],
      "metadata": {
        "id": "z-2MQFJa8RDv"
      },
      "execution_count": 14,
      "outputs": []
    },
    {
      "cell_type": "code",
      "source": [
        "# classifier.predict(sc.transform([[30,800000]]))"
      ],
      "metadata": {
        "id": "-qunYWxV8nH8"
      },
      "execution_count": 15,
      "outputs": []
    },
    {
      "cell_type": "code",
      "source": [
        "# y_pred = classifier.predict(X_test)"
      ],
      "metadata": {
        "id": "5NqshIZE8vPF"
      },
      "execution_count": 16,
      "outputs": []
    },
    {
      "cell_type": "code",
      "source": [
        "# from sklearn.metrics import confusion_matrix, accuracy_score \n",
        "\n",
        "# cm = confusion_matrix(y_pred, y_test) \n",
        "# print(cm) \n",
        "# accuracy_score(y_pred, y_test) \n"
      ],
      "metadata": {
        "id": "_wSMkd-I-sSG"
      },
      "execution_count": 17,
      "outputs": []
    },
    {
      "cell_type": "markdown",
      "source": [
        "K Neighbors Classifier\n"
      ],
      "metadata": {
        "id": "I6CO25xLBKkt"
      }
    },
    {
      "cell_type": "code",
      "source": [
        "# from sklearn.neighbors import KNeighborsClassifier \n",
        "\n",
        "# classifier = KNeighborsClassifier(n_neighbors=5, metric='minkowski', p=2) \n",
        "# classifier.fit(X_train, y_train) "
      ],
      "metadata": {
        "colab": {
          "base_uri": "https://localhost:8080/"
        },
        "id": "TF0Q4UH9-5FE",
        "outputId": "d447f76e-7a92-415d-ded4-fd7d185356cb"
      },
      "execution_count": 18,
      "outputs": [
        {
          "output_type": "execute_result",
          "data": {
            "text/plain": [
              "KNeighborsClassifier()"
            ]
          },
          "metadata": {},
          "execution_count": 18
        }
      ]
    },
    {
      "cell_type": "code",
      "source": [
        "# y_pred = classifier.predict(X_test)"
      ],
      "metadata": {
        "id": "9mAbdygSAxHb"
      },
      "execution_count": 21,
      "outputs": []
    },
    {
      "cell_type": "code",
      "source": [
        "# from sklearn.metrics import confusion_matrix, accuracy_score \n",
        "\n",
        "# cm = confusion_matrix(y_pred, y_test) \n",
        "# print(cm) \n",
        "# accuracy_score(y_pred, y_test)"
      ],
      "metadata": {
        "colab": {
          "base_uri": "https://localhost:8080/"
        },
        "id": "I3O6GguhA1JM",
        "outputId": "96ede3c3-a220-4845-9a36-12e90a737b6f"
      },
      "execution_count": 22,
      "outputs": [
        {
          "output_type": "stream",
          "name": "stdout",
          "text": [
            "[[55  1]\n",
            " [ 3 21]]\n"
          ]
        },
        {
          "output_type": "execute_result",
          "data": {
            "text/plain": [
              "0.95"
            ]
          },
          "metadata": {},
          "execution_count": 22
        }
      ]
    },
    {
      "cell_type": "markdown",
      "source": [
        "Support Vector Machine"
      ],
      "metadata": {
        "id": "IiMgrMefBRwU"
      }
    },
    {
      "cell_type": "code",
      "source": [
        "# from sklearn.svm import SVC \n",
        "\n",
        "# classifier = SVC(kernel=\"linear\", random_state=0) \n",
        "# classifier.fit(X_train, y_train)"
      ],
      "metadata": {
        "id": "E-QgqxQMBEtO"
      },
      "execution_count": 28,
      "outputs": []
    },
    {
      "cell_type": "code",
      "source": [
        "# classifier.predict(sc.transform([[30, 80000]]))"
      ],
      "metadata": {
        "id": "M1psYNwPCYx3"
      },
      "execution_count": 29,
      "outputs": []
    },
    {
      "cell_type": "code",
      "source": [
        "# y_pred = classifier.predict(X_test) \n"
      ],
      "metadata": {
        "id": "-5QHzhPrCfUE"
      },
      "execution_count": 30,
      "outputs": []
    },
    {
      "cell_type": "code",
      "source": [
        "# from sklearn.metrics import confusion_matrix, accuracy_score \n",
        "\n",
        "# cm = confusion_matrix(y_pred, y_test) \n",
        "# print(cm) \n",
        "\n",
        "# accuracy_score(y_pred, y_test)"
      ],
      "metadata": {
        "id": "zXKvUMNjCn2t"
      },
      "execution_count": 31,
      "outputs": []
    },
    {
      "cell_type": "markdown",
      "source": [
        "kernel SVM"
      ],
      "metadata": {
        "id": "sBqAqDHaELOB"
      }
    },
    {
      "cell_type": "code",
      "source": [
        "# from sklearn.svm import SVC\n",
        "\n",
        "# classifier = SVC(kernel='rbf', random_state=0) \n",
        "# classifier.fit(X_train, y_train)"
      ],
      "metadata": {
        "colab": {
          "base_uri": "https://localhost:8080/"
        },
        "id": "lGP9TCa9C0ND",
        "outputId": "e1e22fec-28b9-4616-afa6-37a58efdf7b3"
      },
      "execution_count": 32,
      "outputs": [
        {
          "output_type": "execute_result",
          "data": {
            "text/plain": [
              "SVC(random_state=0)"
            ]
          },
          "metadata": {},
          "execution_count": 32
        }
      ]
    },
    {
      "cell_type": "code",
      "source": [
        "# classifier.predict(sc.transform([[30, 800000]]))"
      ],
      "metadata": {
        "colab": {
          "base_uri": "https://localhost:8080/"
        },
        "id": "QDyqf2rpEksU",
        "outputId": "7144facd-cbfb-4412-9e3e-92a0895551d0"
      },
      "execution_count": 34,
      "outputs": [
        {
          "output_type": "execute_result",
          "data": {
            "text/plain": [
              "array([1])"
            ]
          },
          "metadata": {},
          "execution_count": 34
        }
      ]
    },
    {
      "cell_type": "code",
      "source": [
        "# from sklearn.metrics import confusion_matrix, accuracy_score \n",
        "\n",
        "# cm = confusion_matrix(y_pred, y_test) \n",
        "# print(cm) \n",
        "# accuracy_score(y_pred, y_test)"
      ],
      "metadata": {
        "colab": {
          "base_uri": "https://localhost:8080/"
        },
        "id": "QLLRPKj2EpZS",
        "outputId": "1b97d4f0-01c0-42f2-ae68-a8edb387e106"
      },
      "execution_count": 36,
      "outputs": [
        {
          "output_type": "stream",
          "name": "stdout",
          "text": [
            "[[57  6]\n",
            " [ 1 16]]\n"
          ]
        },
        {
          "output_type": "execute_result",
          "data": {
            "text/plain": [
              "0.9125"
            ]
          },
          "metadata": {},
          "execution_count": 36
        }
      ]
    },
    {
      "cell_type": "markdown",
      "source": [
        "naive bayes\n"
      ],
      "metadata": {
        "id": "eMN3MJYLFQ57"
      }
    },
    {
      "cell_type": "code",
      "source": [
        "# from sklearn.naive_bayes import GaussianNB \n",
        "\n",
        "# classifier = GaussianNB() \n",
        "# classifier.fit(X_train, y_train)"
      ],
      "metadata": {
        "colab": {
          "base_uri": "https://localhost:8080/"
        },
        "id": "Y1nWJvL6FBBW",
        "outputId": "e0079248-fe06-45df-8564-0e7cd7bbac38"
      },
      "execution_count": 37,
      "outputs": [
        {
          "output_type": "execute_result",
          "data": {
            "text/plain": [
              "GaussianNB()"
            ]
          },
          "metadata": {},
          "execution_count": 37
        }
      ]
    },
    {
      "cell_type": "code",
      "source": [
        "# classifier.predict(sc.transform([[30, 800000]]))"
      ],
      "metadata": {
        "colab": {
          "base_uri": "https://localhost:8080/"
        },
        "id": "gnaTmALJFffN",
        "outputId": "14adc82d-84bc-4f43-d712-4edb0906559e"
      },
      "execution_count": 39,
      "outputs": [
        {
          "output_type": "execute_result",
          "data": {
            "text/plain": [
              "array([1])"
            ]
          },
          "metadata": {},
          "execution_count": 39
        }
      ]
    },
    {
      "cell_type": "code",
      "source": [
        "# y_pred = classifier.predict(X_test)"
      ],
      "metadata": {
        "id": "9fXe2wf-FlEo"
      },
      "execution_count": 47,
      "outputs": []
    },
    {
      "cell_type": "code",
      "source": [
        "# from sklearn.metrics import confusion_matrix, accuracy_score \n",
        "\n",
        "# cm = confusion_matrix(y_pred, y_test) \n",
        "# print(cm) \n",
        "# accuracy_score(y_pred, y_test)"
      ],
      "metadata": {
        "colab": {
          "base_uri": "https://localhost:8080/"
        },
        "id": "CPSu4NjpFqTw",
        "outputId": "005684c4-ed68-4b70-c2ce-9c6b7d77fb7e"
      },
      "execution_count": 48,
      "outputs": [
        {
          "output_type": "stream",
          "name": "stdout",
          "text": [
            "[[55  4]\n",
            " [ 3 18]]\n"
          ]
        },
        {
          "output_type": "execute_result",
          "data": {
            "text/plain": [
              "0.9125"
            ]
          },
          "metadata": {},
          "execution_count": 48
        }
      ]
    },
    {
      "cell_type": "markdown",
      "source": [
        "decision tree "
      ],
      "metadata": {
        "id": "aDHSnC--GeZ1"
      }
    },
    {
      "cell_type": "code",
      "source": [
        "# from sklearn.tree import DecisionTreeClassifier \n",
        "\n",
        "# classifier = DecisionTreeClassifier(criterion='entropy', random_state=0) \n",
        "# classifier.fit(X_train, y_train)"
      ],
      "metadata": {
        "colab": {
          "base_uri": "https://localhost:8080/"
        },
        "id": "lHZ3PXWLF3rv",
        "outputId": "1fe06c38-9373-4e18-8ea8-145833854217"
      },
      "execution_count": 49,
      "outputs": [
        {
          "output_type": "execute_result",
          "data": {
            "text/plain": [
              "DecisionTreeClassifier(criterion='entropy', random_state=0)"
            ]
          },
          "metadata": {},
          "execution_count": 49
        }
      ]
    },
    {
      "cell_type": "code",
      "source": [
        "# classifier.predict(sc.transform([[30, 800000]]))"
      ],
      "metadata": {
        "colab": {
          "base_uri": "https://localhost:8080/"
        },
        "id": "G7s5smA9Gtvk",
        "outputId": "ba314ac5-5c8c-4cf1-91cd-9fdf8616440f"
      },
      "execution_count": 51,
      "outputs": [
        {
          "output_type": "execute_result",
          "data": {
            "text/plain": [
              "array([1])"
            ]
          },
          "metadata": {},
          "execution_count": 51
        }
      ]
    },
    {
      "cell_type": "code",
      "source": [
        "# y_pred = classifier.predict(X_test)"
      ],
      "metadata": {
        "id": "3Rm3M90cG1kc"
      },
      "execution_count": 52,
      "outputs": []
    },
    {
      "cell_type": "code",
      "source": [
        "# from sklearn.metrics import confusion_matrix, accuracy_score \n",
        "\n",
        "# cm = confusion_matrix(y_pred, y_test) \n",
        "# print(cm) \n",
        "# accuracy_score(y_pred, y_test)"
      ],
      "metadata": {
        "colab": {
          "base_uri": "https://localhost:8080/"
        },
        "id": "5nzxNlh7G52v",
        "outputId": "c379611b-d425-49a7-d161-878a77e7d05b"
      },
      "execution_count": 53,
      "outputs": [
        {
          "output_type": "stream",
          "name": "stdout",
          "text": [
            "[[53  3]\n",
            " [ 5 19]]\n"
          ]
        },
        {
          "output_type": "execute_result",
          "data": {
            "text/plain": [
              "0.9"
            ]
          },
          "metadata": {},
          "execution_count": 53
        }
      ]
    },
    {
      "cell_type": "markdown",
      "source": [
        "random forest \n"
      ],
      "metadata": {
        "id": "jnCVU_92HQXR"
      }
    },
    {
      "cell_type": "code",
      "source": [
        "from sklearn.ensemble import RandomForestClassifier \n",
        "\n",
        "classifier = RandomForestClassifier(n_estimators=10, criterion='entropy', random_state=0) \n",
        "classifier.fit(X_train, y_train)"
      ],
      "metadata": {
        "colab": {
          "base_uri": "https://localhost:8080/"
        },
        "id": "p22TMdaqHErC",
        "outputId": "38538948-48b2-4bc3-adf6-23e1e4ba17c3"
      },
      "execution_count": 55,
      "outputs": [
        {
          "output_type": "execute_result",
          "data": {
            "text/plain": [
              "RandomForestClassifier(criterion='entropy', n_estimators=10, random_state=0)"
            ]
          },
          "metadata": {},
          "execution_count": 55
        }
      ]
    },
    {
      "cell_type": "code",
      "source": [
        "classifier.predict(sc.transform([[30, 800000]]))"
      ],
      "metadata": {
        "colab": {
          "base_uri": "https://localhost:8080/"
        },
        "id": "mqe7t6saHx-F",
        "outputId": "901f401c-c3ed-4886-b42a-c5b61a6135ad"
      },
      "execution_count": 57,
      "outputs": [
        {
          "output_type": "execute_result",
          "data": {
            "text/plain": [
              "array([1])"
            ]
          },
          "metadata": {},
          "execution_count": 57
        }
      ]
    },
    {
      "cell_type": "code",
      "source": [
        "y_pred = classifier.predict(X_test)"
      ],
      "metadata": {
        "id": "dZbe-4XTH8FY"
      },
      "execution_count": 58,
      "outputs": []
    },
    {
      "cell_type": "code",
      "source": [
        "from sklearn.metrics import confusion_matrix, accuracy_score \n",
        "\n",
        "cm = confusion_matrix(y_pred, y_test) \n",
        "print(cm) \n",
        "accuracy_score(y_pred, y_test)"
      ],
      "metadata": {
        "colab": {
          "base_uri": "https://localhost:8080/"
        },
        "id": "ZGS5zQzwIBRS",
        "outputId": "7cb14419-9ef4-4d63-871a-1d28a221161c"
      },
      "execution_count": 60,
      "outputs": [
        {
          "output_type": "stream",
          "name": "stdout",
          "text": [
            "[[54  3]\n",
            " [ 4 19]]\n"
          ]
        },
        {
          "output_type": "execute_result",
          "data": {
            "text/plain": [
              "0.9125"
            ]
          },
          "metadata": {},
          "execution_count": 60
        }
      ]
    },
    {
      "cell_type": "code",
      "source": [],
      "metadata": {
        "id": "wyretlgjII78"
      },
      "execution_count": null,
      "outputs": []
    }
  ]
}